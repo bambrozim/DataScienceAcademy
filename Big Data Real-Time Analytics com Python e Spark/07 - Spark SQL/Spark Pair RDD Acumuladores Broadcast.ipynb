{
 "cells": [
  {
   "cell_type": "markdown",
   "metadata": {},
   "source": [
    "### Pares RDD (Pair RDD)"
   ]
  },
  {
   "cell_type": "markdown",
   "metadata": {},
   "source": [
    "- mapValues()\n",
    "- countByKey()\n",
    "- groupByKey()\n",
    "- reduceByKey()\n",
    "- aggregateByKey()"
   ]
  },
  {
   "cell_type": "code",
   "execution_count": 1,
   "metadata": {},
   "outputs": [],
   "source": [
    "# Importando arquivo csv e criando um RDD\n",
    "carros = sc.textFile('carros.csv')"
   ]
  },
  {
   "cell_type": "code",
   "execution_count": 2,
   "metadata": {},
   "outputs": [
    {
     "data": {
      "text/plain": [
       "[('MAKE', 'HP'),\n",
       " ('subaru', '69'),\n",
       " ('chevrolet', '48'),\n",
       " ('mazda', '68'),\n",
       " ('toyota', '62')]"
      ]
     },
     "execution_count": 2,
     "metadata": {},
     "output_type": "execute_result"
    }
   ],
   "source": [
    "# Criando uma Pair RDD\n",
    "carrosPairRDD = carros.map(lambda x: (x.split(',')[0], x.split(',')[7]))\n",
    "carrosPairRDD.take(5)"
   ]
  },
  {
   "cell_type": "code",
   "execution_count": 3,
   "metadata": {},
   "outputs": [],
   "source": [
    "# Removendo o cabeçalho\n",
    "header = carrosPairRDD.first()\n",
    "carrosPairRDD2 = carrosPairRDD.filter(lambda line: line != header)"
   ]
  },
  {
   "cell_type": "code",
   "execution_count": 4,
   "metadata": {},
   "outputs": [
    {
     "data": {
      "text/plain": [
       "[('subaru', ('69', 1)),\n",
       " ('chevrolet', ('48', 1)),\n",
       " ('mazda', ('68', 1)),\n",
       " ('toyota', ('62', 1)),\n",
       " ('mitsubishi', ('68', 1)),\n",
       " ('honda', ('60', 1)),\n",
       " ('nissan', ('69', 1)),\n",
       " ('dodge', ('68', 1)),\n",
       " ('plymouth', ('68', 1)),\n",
       " ('mazda', ('68', 1)),\n",
       " ('mitsubishi', ('68', 1)),\n",
       " ('dodge', ('68', 1)),\n",
       " ('plymouth', ('68', 1)),\n",
       " ('chevrolet', ('70', 1)),\n",
       " ('toyota', ('62', 1)),\n",
       " ('dodge', ('68', 1)),\n",
       " ('honda', ('58', 1)),\n",
       " ('toyota', ('62', 1)),\n",
       " ('honda', ('76', 1)),\n",
       " ('chevrolet', ('70', 1)),\n",
       " ('nissan', ('69', 1)),\n",
       " ('mitsubishi', ('68', 1)),\n",
       " ('dodge', ('68', 1)),\n",
       " ('plymouth', ('68', 1)),\n",
       " ('mazda', ('68', 1)),\n",
       " ('isuzu', ('78', 1)),\n",
       " ('mazda', ('68', 1)),\n",
       " ('nissan', ('69', 1)),\n",
       " ('honda', ('76', 1)),\n",
       " ('toyota', ('62', 1)),\n",
       " ('toyota', ('70', 1)),\n",
       " ('mitsubishi', ('88', 1)),\n",
       " ('subaru', ('73', 1)),\n",
       " ('nissan', ('55', 1)),\n",
       " ('subaru', ('82', 1)),\n",
       " ('honda', ('76', 1)),\n",
       " ('toyota', ('70', 1)),\n",
       " ('honda', ('76', 1)),\n",
       " ('honda', ('76', 1)),\n",
       " ('nissan', ('69', 1)),\n",
       " ('nissan', ('69', 1)),\n",
       " ('mazda', ('68', 1)),\n",
       " ('subaru', ('82', 1)),\n",
       " ('nissan', ('69', 1)),\n",
       " ('subaru', ('73', 1)),\n",
       " ('dodge', ('68', 1)),\n",
       " ('plymouth', ('68', 1)),\n",
       " ('mitsubishi', ('102', 1)),\n",
       " ('toyota', ('70', 1)),\n",
       " ('subaru', ('82', 1)),\n",
       " ('volkswagen', ('52', 1)),\n",
       " ('toyota', ('56', 1)),\n",
       " ('nissan', ('69', 1)),\n",
       " ('honda', ('86', 1)),\n",
       " ('toyota', ('62', 1)),\n",
       " ('toyota', ('56', 1)),\n",
       " ('dodge', ('102', 1)),\n",
       " ('plymouth', ('102', 1)),\n",
       " ('volkswagen', ('85', 1)),\n",
       " ('volkswagen', ('52', 1)),\n",
       " ('nissan', ('69', 1)),\n",
       " ('subaru', ('82', 1)),\n",
       " ('toyota', ('70', 1)),\n",
       " ('mitsubishi', ('88', 1)),\n",
       " ('volkswagen', ('85', 1)),\n",
       " ('toyota', ('70', 1)),\n",
       " ('nissan', ('69', 1)),\n",
       " ('toyota', ('70', 1)),\n",
       " ('toyota', ('116', 1)),\n",
       " ('mazda', ('84', 1)),\n",
       " ('volkswagen', ('85', 1)),\n",
       " ('mitsubishi', ('88', 1)),\n",
       " ('toyota', ('62', 1)),\n",
       " ('honda', ('86', 1)),\n",
       " ('mazda', ('84', 1)),\n",
       " ('dodge', ('88', 1)),\n",
       " ('plymouth', ('88', 1)),\n",
       " ('toyota', ('92', 1)),\n",
       " ('nissan', ('97', 1)),\n",
       " ('honda', ('86', 1)),\n",
       " ('subaru', ('82', 1)),\n",
       " ('toyota', ('70', 1)),\n",
       " ('mitsubishi', ('116', 1)),\n",
       " ('mitsubishi', ('116', 1)),\n",
       " ('toyota', ('112', 1)),\n",
       " ('volkswagen', ('68', 1)),\n",
       " ('toyota', ('112', 1)),\n",
       " ('nissan', ('97', 1)),\n",
       " ('toyota', ('116', 1)),\n",
       " ('mitsubishi', ('116', 1)),\n",
       " ('subaru', ('94', 1)),\n",
       " ('volkswagen', ('90', 1)),\n",
       " ('toyota', ('92', 1)),\n",
       " ('toyota', ('116', 1)),\n",
       " ('volkswagen', ('100', 1)),\n",
       " ('subaru', ('94', 1)),\n",
       " ('mazda', ('84', 1)),\n",
       " ('honda', ('86', 1)),\n",
       " ('honda', ('100', 1)),\n",
       " ('mazda', ('84', 1)),\n",
       " ('toyota', ('73', 1)),\n",
       " ('toyota', ('92', 1)),\n",
       " ('mazda', ('101', 1)),\n",
       " ('isuzu', ('90', 1)),\n",
       " ('toyota', ('116', 1)),\n",
       " ('mazda', ('84', 1)),\n",
       " ('toyota', ('92', 1)),\n",
       " ('subaru', ('111', 1)),\n",
       " ('toyota', ('116', 1)),\n",
       " ('volkswagen', ('90', 1)),\n",
       " ('subaru', ('111', 1)),\n",
       " ('mazda', ('101', 1)),\n",
       " ('saab', ('110', 1)),\n",
       " ('peugot', ('97', 1)),\n",
       " ('saab', ('110', 1)),\n",
       " ('volkswagen', ('88', 1)),\n",
       " ('peugot', ('97', 1)),\n",
       " ('mitsubishi', ('145', 1)),\n",
       " ('plymouth', ('145', 1)),\n",
       " ('volvo', ('114', 1)),\n",
       " ('honda', ('101', 1)),\n",
       " ('dodge', ('145', 1)),\n",
       " ('peugot', ('95', 1)),\n",
       " ('volkswagen', ('110', 1)),\n",
       " ('volvo', ('114', 1)),\n",
       " ('alfa-romero', ('111', 1)),\n",
       " ('nissan', ('152', 1)),\n",
       " ('nissan', ('152', 1)),\n",
       " ('mazda', ('101', 1)),\n",
       " ('volkswagen', ('68', 1)),\n",
       " ('peugot', ('95', 1)),\n",
       " ('audi', ('102', 1)),\n",
       " ('nissan', ('152', 1)),\n",
       " ('mitsubishi', ('145', 1)),\n",
       " ('mitsubishi', ('145', 1)),\n",
       " ('saab', ('110', 1)),\n",
       " ('audi', ('110', 1)),\n",
       " ('saab', ('110', 1)),\n",
       " ('peugot', ('95', 1)),\n",
       " ('mazda', ('135', 1)),\n",
       " ('toyota', ('156', 1)),\n",
       " ('toyota', ('156', 1)),\n",
       " ('volvo', ('114', 1)),\n",
       " ('toyota', ('161', 1)),\n",
       " ('bmw', ('101', 1)),\n",
       " ('alfa-romero', ('111', 1)),\n",
       " ('alfa-romero', ('154', 1)),\n",
       " ('mercury', ('175', 1)),\n",
       " ('volvo', ('114', 1)),\n",
       " ('toyota', ('161', 1)),\n",
       " ('peugot', ('97', 1)),\n",
       " ('peugot', ('95', 1)),\n",
       " ('volvo', ('114', 1)),\n",
       " ('peugot', ('95', 1)),\n",
       " ('bmw', ('101', 1)),\n",
       " ('peugot', ('95', 1)),\n",
       " ('nissan', ('160', 1)),\n",
       " ('audi', ('115', 1)),\n",
       " ('toyota', ('116', 1)),\n",
       " ('audi', ('110', 1)),\n",
       " ('peugot', ('95', 1)),\n",
       " ('peugot', ('142', 1)),\n",
       " ('saab', ('160', 1)),\n",
       " ('mazda', ('120', 1)),\n",
       " ('mazda', ('72', 1)),\n",
       " ('nissan', ('160', 1)),\n",
       " ('volvo', ('162', 1)),\n",
       " ('saab', ('160', 1)),\n",
       " ('audi', ('110', 1)),\n",
       " ('volvo', ('162', 1)),\n",
       " ('volvo', ('160', 1)),\n",
       " ('nissan', ('200', 1)),\n",
       " ('bmw', ('121', 1)),\n",
       " ('bmw', ('121', 1)),\n",
       " ('volvo', ('134', 1)),\n",
       " ('porsche', ('143', 1)),\n",
       " ('volvo', ('106', 1)),\n",
       " ('volvo', ('114', 1)),\n",
       " ('audi', ('140', 1)),\n",
       " ('bmw', ('121', 1)),\n",
       " ('mercedes-benz', ('123', 1)),\n",
       " ('mercedes-benz', ('123', 1)),\n",
       " ('mercedes-benz', ('123', 1)),\n",
       " ('bmw', ('182', 1)),\n",
       " ('mercedes-benz', ('123', 1)),\n",
       " ('jaguar', ('176', 1)),\n",
       " ('porsche', ('207', 1)),\n",
       " ('porsche', ('207', 1)),\n",
       " ('mercedes-benz', ('155', 1)),\n",
       " ('mercedes-benz', ('155', 1)),\n",
       " ('jaguar', ('176', 1)),\n",
       " ('jaguar', ('262', 1)),\n",
       " ('bmw', ('182', 1)),\n",
       " ('porsche', ('207', 1)),\n",
       " ('mercedes-benz', ('184', 1)),\n",
       " ('bmw', ('182', 1)),\n",
       " ('mercedes-benz', ('184', 1))]"
      ]
     },
     "execution_count": 4,
     "metadata": {},
     "output_type": "execute_result"
    }
   ],
   "source": [
    "# Encontra a média de HP por marca de carro e adiciona 1 a cada contagem\n",
    "addOne = carrosPairRDD2.mapValues(lambda x: (x, 1))\n",
    "addOne.collect()"
   ]
  },
  {
   "cell_type": "code",
   "execution_count": 5,
   "metadata": {},
   "outputs": [
    {
     "data": {
      "text/plain": [
       "[('chevrolet', (188, 3)),\n",
       " ('mazda', (1390, 16)),\n",
       " ('mitsubishi', (1353, 13)),\n",
       " ('nissan', (1846, 18)),\n",
       " ('dodge', (675, 8)),\n",
       " ('plymouth', (607, 7)),\n",
       " ('saab', (760, 6)),\n",
       " ('volvo', (1408, 11)),\n",
       " ('alfa-romero', (376, 3)),\n",
       " ('mercedes-benz', (1170, 8)),\n",
       " ('jaguar', (614, 3)),\n",
       " ('subaru', (1035, 12)),\n",
       " ('toyota', (2969, 32)),\n",
       " ('honda', (1043, 13)),\n",
       " ('isuzu', (168, 2)),\n",
       " ('volkswagen', (973, 12)),\n",
       " ('peugot', (1098, 11)),\n",
       " ('audi', (687, 6)),\n",
       " ('bmw', (1111, 8)),\n",
       " ('mercury', ('175', 1)),\n",
       " ('porsche', (764, 4))]"
      ]
     },
     "execution_count": 5,
     "metadata": {},
     "output_type": "execute_result"
    }
   ],
   "source": [
    "# Aplica redução por key (reduceByKey) e conta a quantidade de fabricantes de carro, a média de HP e o nome do fabricante\n",
    "fabricantes = addOne.reduceByKey(lambda x, y: (int(x[0]) + int(y[0]), x[1] + y[1]))\n",
    "fabricantes.collect()"
   ]
  },
  {
   "cell_type": "code",
   "execution_count": 6,
   "metadata": {},
   "outputs": [
    {
     "data": {
      "text/plain": [
       "[('chevrolet', 62.666666666666664),\n",
       " ('mazda', 86.875),\n",
       " ('mitsubishi', 104.07692307692308),\n",
       " ('nissan', 102.55555555555556),\n",
       " ('dodge', 84.375),\n",
       " ('plymouth', 86.71428571428571),\n",
       " ('saab', 126.66666666666667),\n",
       " ('volvo', 128.0),\n",
       " ('alfa-romero', 125.33333333333333),\n",
       " ('mercedes-benz', 146.25),\n",
       " ('jaguar', 204.66666666666666),\n",
       " ('subaru', 86.25),\n",
       " ('toyota', 92.78125),\n",
       " ('honda', 80.23076923076923),\n",
       " ('isuzu', 84.0),\n",
       " ('volkswagen', 81.08333333333333),\n",
       " ('peugot', 99.81818181818181),\n",
       " ('audi', 114.5),\n",
       " ('bmw', 138.875),\n",
       " ('mercury', 175.0),\n",
       " ('porsche', 191.0)]"
      ]
     },
     "execution_count": 6,
     "metadata": {},
     "output_type": "execute_result"
    }
   ],
   "source": [
    "# Calculando a média de HP dividindo pela contagem total\n",
    "fabricantes.mapValues(lambda x: int(x[0])/int(x[1])).collect()"
   ]
  },
  {
   "cell_type": "markdown",
   "metadata": {},
   "source": [
    "### Acumuladores e Broadcast"
   ]
  },
  {
   "cell_type": "code",
   "execution_count": 7,
   "metadata": {},
   "outputs": [],
   "source": [
    "# Inicializando variáveis Accumulator\n",
    "sedanCount = sc.accumulator(0)\n",
    "hatchbackCount = sc.accumulator(0)"
   ]
  },
  {
   "cell_type": "code",
   "execution_count": 8,
   "metadata": {},
   "outputs": [],
   "source": [
    "# Inicializando variáveis Broadcast\n",
    "sedanText = sc.broadcast('sedan')\n",
    "hatchbackText = sc.broadcast('hatchback')"
   ]
  },
  {
   "cell_type": "code",
   "execution_count": 9,
   "metadata": {},
   "outputs": [],
   "source": [
    "def splitLines(line):\n",
    "    \n",
    "    global sedanCount\n",
    "    global hatchbackCount\n",
    "    \n",
    "    # Usa a variável Broadcast para comparar e configura o accumulator\n",
    "    if sedanText.value in line:\n",
    "        sedanCount +=1\n",
    "    if hatchbackText.value in line:\n",
    "        hatchbackCount +=1\n",
    "        \n",
    "    return line.split(',')"
   ]
  },
  {
   "cell_type": "code",
   "execution_count": 11,
   "metadata": {},
   "outputs": [],
   "source": [
    "# Map()\n",
    "splitData = carros.map(splitLines)"
   ]
  },
  {
   "cell_type": "code",
   "execution_count": 12,
   "metadata": {},
   "outputs": [
    {
     "name": "stdout",
     "output_type": "stream",
     "text": [
      "92 67\n"
     ]
    }
   ],
   "source": [
    "# Ação para executar a transformação (lazy evaluation)\n",
    "splitData.count()\n",
    "print(sedanCount, hatchbackCount)"
   ]
  },
  {
   "cell_type": "markdown",
   "metadata": {},
   "source": [
    "### Partições"
   ]
  },
  {
   "cell_type": "code",
   "execution_count": 13,
   "metadata": {},
   "outputs": [
    {
     "data": {
      "text/plain": [
       "2"
      ]
     },
     "execution_count": 13,
     "metadata": {},
     "output_type": "execute_result"
    }
   ],
   "source": [
    "fabricantes.getNumPartitions()"
   ]
  },
  {
   "cell_type": "code",
   "execution_count": 14,
   "metadata": {},
   "outputs": [
    {
     "data": {
      "text/plain": [
       "5"
      ]
     },
     "execution_count": 14,
     "metadata": {},
     "output_type": "execute_result"
    }
   ],
   "source": [
    "# Especificando o número de partições\n",
    "collData = sc.parallelize([3,5,4,7,4], 3)\n",
    "collData.cache()\n",
    "collData.count()"
   ]
  },
  {
   "cell_type": "code",
   "execution_count": 15,
   "metadata": {},
   "outputs": [
    {
     "data": {
      "text/plain": [
       "3"
      ]
     },
     "execution_count": 15,
     "metadata": {},
     "output_type": "execute_result"
    }
   ],
   "source": [
    "collData.getNumPartitions()"
   ]
  },
  {
   "cell_type": "code",
   "execution_count": 16,
   "metadata": {},
   "outputs": [
    {
     "name": "stdout",
     "output_type": "stream",
     "text": [
      "8\n"
     ]
    }
   ],
   "source": [
    "print(sc.defaultParallelism)"
   ]
  }
 ],
 "metadata": {
  "kernelspec": {
   "display_name": "Python 3",
   "language": "python",
   "name": "python3"
  },
  "language_info": {
   "codemirror_mode": {
    "name": "ipython",
    "version": 3
   },
   "file_extension": ".py",
   "mimetype": "text/x-python",
   "name": "python",
   "nbconvert_exporter": "python",
   "pygments_lexer": "ipython3",
   "version": "3.6.8"
  }
 },
 "nbformat": 4,
 "nbformat_minor": 2
}
