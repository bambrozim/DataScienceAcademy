{
 "cells": [
  {
   "cell_type": "code",
   "execution_count": 1,
   "metadata": {},
   "outputs": [],
   "source": [
    "import cv2"
   ]
  },
  {
   "cell_type": "code",
   "execution_count": 2,
   "metadata": {},
   "outputs": [
    {
     "data": {
      "text/html": [
       "<img src=\"foto.jpg\"/>"
      ],
      "text/plain": [
       "<IPython.core.display.Image object>"
      ]
     },
     "execution_count": 2,
     "metadata": {},
     "output_type": "execute_result"
    }
   ],
   "source": [
    "from IPython.display import Image\n",
    "Image(url='foto.jpg')"
   ]
  },
  {
   "cell_type": "code",
   "execution_count": 3,
   "metadata": {},
   "outputs": [],
   "source": [
    "arquivo_parametros = 'haarcascade_frontalface_alt.xml'"
   ]
  },
  {
   "cell_type": "code",
   "execution_count": 4,
   "metadata": {},
   "outputs": [],
   "source": [
    "# Executando Classificador\n",
    "classificador_cascade = cv2.CascadeClassifier(arquivo_parametros)"
   ]
  },
  {
   "cell_type": "code",
   "execution_count": 5,
   "metadata": {},
   "outputs": [],
   "source": [
    "# Leitura da Imagem\n",
    "imagem = cv2.imread('foto.jpg')"
   ]
  },
  {
   "cell_type": "code",
   "execution_count": 6,
   "metadata": {},
   "outputs": [
    {
     "data": {
      "text/plain": [
       "array([[[192, 198, 203],\n",
       "        [182, 197, 199],\n",
       "        [185, 196, 200],\n",
       "        ...,\n",
       "        [178, 176, 158],\n",
       "        [183, 182, 162],\n",
       "        [184, 183, 162]],\n",
       "\n",
       "       [[197, 196, 206],\n",
       "        [190, 196, 201],\n",
       "        [192, 197, 200],\n",
       "        ...,\n",
       "        [190, 175, 166],\n",
       "        [180, 171, 158],\n",
       "        [178, 178, 162]],\n",
       "\n",
       "       [[196, 195, 204],\n",
       "        [192, 195, 200],\n",
       "        [193, 194, 198],\n",
       "        ...,\n",
       "        [191, 172, 167],\n",
       "        [185, 173, 167],\n",
       "        [182, 180, 170]],\n",
       "\n",
       "       ...,\n",
       "\n",
       "       [[143, 157, 153],\n",
       "        [142, 156, 155],\n",
       "        [142, 161, 152],\n",
       "        ...,\n",
       "        [105, 111, 122],\n",
       "        [114, 106, 116],\n",
       "        [109, 106, 115]],\n",
       "\n",
       "       [[135, 158, 150],\n",
       "        [150, 167, 164],\n",
       "        [143, 162, 153],\n",
       "        ...,\n",
       "        [112, 114, 125],\n",
       "        [118, 110, 120],\n",
       "        [133, 125, 135]],\n",
       "\n",
       "       [[137, 164, 154],\n",
       "        [140, 156, 149],\n",
       "        [129, 153, 143],\n",
       "        ...,\n",
       "        [108, 106, 118],\n",
       "        [121, 119, 131],\n",
       "        [121, 123, 134]]], dtype=uint8)"
      ]
     },
     "execution_count": 6,
     "metadata": {},
     "output_type": "execute_result"
    }
   ],
   "source": [
    "imagem"
   ]
  },
  {
   "cell_type": "code",
   "execution_count": 7,
   "metadata": {},
   "outputs": [],
   "source": [
    "# Conversão da imagem em escala de cinza\n",
    "grayImage = cv2.cvtColor(imagem, cv2.COLOR_BGR2GRAY)"
   ]
  },
  {
   "cell_type": "code",
   "execution_count": 8,
   "metadata": {},
   "outputs": [
    {
     "data": {
      "text/plain": [
       "array([[199, 196, 196, ..., 171, 176, 177],\n",
       "       [199, 197, 197, ..., 174, 168, 173],\n",
       "       [198, 196, 195, ..., 173, 173, 177],\n",
       "       ...,\n",
       "       [154, 154, 156, ..., 114, 110, 109],\n",
       "       [153, 164, 157, ..., 117, 114, 129],\n",
       "       [158, 152, 147, ..., 110, 123, 126]], dtype=uint8)"
      ]
     },
     "execution_count": 8,
     "metadata": {},
     "output_type": "execute_result"
    }
   ],
   "source": [
    "grayImage"
   ]
  },
  {
   "cell_type": "code",
   "execution_count": 9,
   "metadata": {},
   "outputs": [],
   "source": [
    "# Definição dos parâmetros de classificação\n",
    "faces = classificador_cascade.detectMultiScale(grayImage, scaleFactor=1.1, minNeighbors=10, minSize=(30, 30))"
   ]
  },
  {
   "cell_type": "code",
   "execution_count": 10,
   "metadata": {},
   "outputs": [
    {
     "data": {
      "text/plain": [
       "array([[847,  25,  50,  50],\n",
       "       [848, 136,  47,  47],\n",
       "       [159,  49,  44,  44],\n",
       "       [226,  50,  48,  48],\n",
       "       [680,  79,  48,  48],\n",
       "       [560, 374,  50,  50],\n",
       "       [639, 380,  46,  46],\n",
       "       [294, 108,  45,  45],\n",
       "       [ 89,  23,  43,  43],\n",
       "       [801, 110,  47,  47],\n",
       "       [521, 113,  46,  46],\n",
       "       [594, 115,  49,  49],\n",
       "       [542,  44,  45,  45],\n",
       "       [617,  47,  41,  41],\n",
       "       [ 61,  67,  49,  49],\n",
       "       [177, 121,  47,  47],\n",
       "       [883, 373,  54,  54],\n",
       "       [409,  99,  48,  48],\n",
       "       [759, 358,  51,  51],\n",
       "       [376,  36,  48,  48],\n",
       "       [311,  23,  52,  52],\n",
       "       [ 98, 339,  54,  54],\n",
       "       [305, 360,  58,  58],\n",
       "       [388, 380,  52,  52]], dtype=int32)"
      ]
     },
     "execution_count": 10,
     "metadata": {},
     "output_type": "execute_result"
    }
   ],
   "source": [
    "faces"
   ]
  },
  {
   "cell_type": "code",
   "execution_count": 11,
   "metadata": {},
   "outputs": [],
   "source": [
    "# Aplicação das regras.\n",
    "for (x, y, width, height) in faces:\n",
    "    cv2.rectangle(imagem, (x, y), (x+width, y+height), (0, 0, 255), 10)"
   ]
  },
  {
   "cell_type": "code",
   "execution_count": 12,
   "metadata": {},
   "outputs": [
    {
     "data": {
      "text/plain": [
       "True"
      ]
     },
     "execution_count": 12,
     "metadata": {},
     "output_type": "execute_result"
    }
   ],
   "source": [
    "# Gravando o resultado\n",
    "cv2.imwrite('resultado.jpg', imagem)"
   ]
  },
  {
   "cell_type": "code",
   "execution_count": 13,
   "metadata": {},
   "outputs": [
    {
     "data": {
      "text/html": [
       "<img src=\"resultado.jpg\"/>"
      ],
      "text/plain": [
       "<IPython.core.display.Image object>"
      ]
     },
     "execution_count": 13,
     "metadata": {},
     "output_type": "execute_result"
    }
   ],
   "source": [
    "Image(url='resultado.jpg')"
   ]
  },
  {
   "cell_type": "code",
   "execution_count": null,
   "metadata": {},
   "outputs": [],
   "source": []
  }
 ],
 "metadata": {
  "kernelspec": {
   "display_name": "Python 3",
   "language": "python",
   "name": "python3"
  },
  "language_info": {
   "codemirror_mode": {
    "name": "ipython",
    "version": 3
   },
   "file_extension": ".py",
   "mimetype": "text/x-python",
   "name": "python",
   "nbconvert_exporter": "python",
   "pygments_lexer": "ipython3",
   "version": "3.6.8"
  }
 },
 "nbformat": 4,
 "nbformat_minor": 2
}
