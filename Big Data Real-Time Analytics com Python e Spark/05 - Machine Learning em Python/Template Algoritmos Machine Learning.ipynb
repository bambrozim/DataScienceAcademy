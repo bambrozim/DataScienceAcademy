{
 "cells": [
  {
   "cell_type": "markdown",
   "metadata": {},
   "source": [
    "## Algoritmos de Machine Learning - Template\n",
    "***"
   ]
  },
  {
   "cell_type": "markdown",
   "metadata": {},
   "source": [
    "## Regressão Linear"
   ]
  },
  {
   "cell_type": "code",
   "execution_count": null,
   "metadata": {},
   "outputs": [],
   "source": [
    "# Import do módulo\n",
    "from sklearn import linear_model\n",
    "\n",
    "# Datasets de treino e de teste\n",
    "x_treino = dataset_treino_variaveis_preditoras\n",
    "y_treino = dataset_treino_variavel_prevista\n",
    "x_teste = dataset_teste_variaveis_preditoras\n",
    "\n",
    "# Criando o objeto linear regression\n",
    "linear = linear_model.LinearRegression()\n",
    "\n",
    "# Treinando o modelo com dados de treino e checando o score\n",
    "linear.fit(x_treino, y_treino)\n",
    "linear.score(x_treino, y_treino)\n",
    "\n",
    "# Coletando os coeficientes\n",
    "print('Coefficient: \\n', linear.coef_)\n",
    "print('Intercept: \\n', linear.intercept_)\n",
    "\n",
    "# Previsões\n",
    "valores_previstos = linear.predict(x_teste)"
   ]
  },
  {
   "cell_type": "markdown",
   "metadata": {},
   "source": [
    "## Regressão Logística"
   ]
  },
  {
   "cell_type": "code",
   "execution_count": null,
   "metadata": {},
   "outputs": [],
   "source": [
    "# Import do módulo\n",
    "from sklearn.linear_model import LogisticRegression\n",
    "\n",
    "# Datasets de treino e de teste\n",
    "x_treino = dataset_treino_variaveis_preditoras\n",
    "y_treino = dataset_treino_variavel_prevista\n",
    "x_teste = dataset_teste_variaveis_preditoras\n",
    "\n",
    "# Criando o objeto logistic regression\n",
    "modelo = LogisticRegression()\n",
    "\n",
    "# Treinando o modelo com dados de treino e checando o score\n",
    "modelo.fit(x_treino, y_treino)\n",
    "modelo.score(x_treino, y_treino)\n",
    "\n",
    "# Coletando os coeficientes\n",
    "print('Coefficient: \\n', modelo.coef_)\n",
    "print('Intercept: \\n', modelo.intercept_)\n",
    "\n",
    "# Previsões\n",
    "valores_previstos = modelo.predict(x_teste)"
   ]
  },
  {
   "cell_type": "markdown",
   "metadata": {},
   "source": [
    "## Árvores de Decisão"
   ]
  },
  {
   "cell_type": "code",
   "execution_count": null,
   "metadata": {},
   "outputs": [],
   "source": [
    "# Import do módulo\n",
    "from sklearn import tree\n",
    "\n",
    "# Datasets de treino e de teste\n",
    "x_treino = dataset_treino_variaveis_preditoras\n",
    "y_treino = dataset_treino_variavel_prevista\n",
    "x_teste = dataset_teste_variaveis_preditoras\n",
    "\n",
    "# Criando o objeto tree para regressão\n",
    "modelo = tree.DecisionTreeRegressor()\n",
    "\n",
    "# Criando o objeto tree para classificação\n",
    "modelo = tree.DecisionTreeClassifier()\n",
    "\n",
    "# Treinando o modelo com dados de treino e checando o score\n",
    "modelo.fit(x_treino, y_treino)\n",
    "modelo.score(x_treino, y_treino)\n",
    "\n",
    "# Previsões\n",
    "valores_previstos = modelo.predict(x_teste)"
   ]
  },
  {
   "cell_type": "markdown",
   "metadata": {},
   "source": [
    "## Naive Bayes"
   ]
  },
  {
   "cell_type": "code",
   "execution_count": null,
   "metadata": {},
   "outputs": [],
   "source": [
    "# Import do módulo\n",
    "from sklearn.naive_bayes import GaussianNB\n",
    "\n",
    "# Datasets de treino e de teste\n",
    "x_treino = dataset_treino_variaveis_preditoras\n",
    "y_treino = dataset_treino_variavel_prevista\n",
    "x_teste = dataset_teste_variaveis_preditoras\n",
    "\n",
    "# Criando o objeto GaussianNB\n",
    "modelo = GaussianNB()\n",
    "\n",
    "# Treinando o modelo com dados de treino\n",
    "modelo.fit(x_treino, y_treino)\n",
    "\n",
    "# Previsões\n",
    "valores_previstos = modelo.predict(x_teste)"
   ]
  },
  {
   "cell_type": "markdown",
   "metadata": {},
   "source": [
    "## Support Vector Machines"
   ]
  },
  {
   "cell_type": "code",
   "execution_count": null,
   "metadata": {},
   "outputs": [],
   "source": [
    "# Import do módulo\n",
    "from sklearn import svm\n",
    "\n",
    "# Datasets de treino e de teste\n",
    "x_treino = dataset_treino_variaveis_preditoras\n",
    "y_treino = dataset_treino_variavel_prevista\n",
    "x_teste = dataset_teste_variaveis_preditoras\n",
    "\n",
    "# Criando o objeto de classificação SVM\n",
    "modelo = svm.svc()\n",
    "\n",
    "# Treinando o modelo com dados de treino e checando o score\n",
    "modelo.fit(x_treino, y_treino)\n",
    "modelo.score(x_treino, y_treino)\n",
    "\n",
    "# Previsões\n",
    "valores_previstos = modelo.predict(x_teste)"
   ]
  },
  {
   "cell_type": "markdown",
   "metadata": {},
   "source": [
    "## K-Nearest Neighbors"
   ]
  },
  {
   "cell_type": "code",
   "execution_count": null,
   "metadata": {},
   "outputs": [],
   "source": [
    "# Import do módulo\n",
    "from sklearn.neighbors import KNeighborsClassifier\n",
    "\n",
    "# Datasets de treino e de teste\n",
    "x_treino = dataset_treino_variaveis_preditoras\n",
    "y_treino = dataset_treino_variavel_prevista\n",
    "x_teste = dataset_teste_variaveis_preditoras\n",
    "\n",
    "# Criando o objeto para classificação KNeighbors\n",
    "modelo = KNeighborsClassifier()\n",
    "\n",
    "# Treinando o modelo com dados de treino\n",
    "modelo.fit(x_treino, y_treino)\n",
    "\n",
    "# Previsões\n",
    "valores_previstos = modelo.predict(x_teste)"
   ]
  },
  {
   "cell_type": "markdown",
   "metadata": {},
   "source": [
    "## K-Means"
   ]
  },
  {
   "cell_type": "code",
   "execution_count": null,
   "metadata": {},
   "outputs": [],
   "source": [
    "# Import do módulo\n",
    "from sklearn.cluster import KMeans\n",
    "\n",
    "# Datasets de treino e de teste\n",
    "x_treino = dataset_treino_variaveis_preditoras\n",
    "y_treino = dataset_treino_variavel_prevista\n",
    "x_teste = dataset_teste_variaveis_preditoras\n",
    "\n",
    "# Criando o objeto KMeans\n",
    "modelo = KMeans(n_clusters=3)\n",
    "\n",
    "# Treinando o modelo com dados de treino\n",
    "modelo.fit(x_treino, y_treino)\n",
    "\n",
    "# Previsões\n",
    "valores_previstos = modelo.predict(x_teste)"
   ]
  },
  {
   "cell_type": "markdown",
   "metadata": {},
   "source": [
    "## Random Forest"
   ]
  },
  {
   "cell_type": "code",
   "execution_count": null,
   "metadata": {},
   "outputs": [],
   "source": [
    "# Import do módulo\n",
    "from sklearn.ensemble import RandomForestClassifier\n",
    "\n",
    "# Datasets de treino e de teste\n",
    "x_treino = dataset_treino_variaveis_preditoras\n",
    "y_treino = dataset_treino_variavel_prevista\n",
    "x_teste = dataset_teste_variaveis_preditoras\n",
    "\n",
    "# Criando o objeto Random Forest para classificação\n",
    "modelo = RandomForestClassifier()\n",
    "\n",
    "# Treinando o modelo com dados de treino\n",
    "modelo.fit(x_treino, y_treino)\n",
    "\n",
    "# Previsões\n",
    "valores_previstos = modelo.predict(x_teste)"
   ]
  },
  {
   "cell_type": "markdown",
   "metadata": {},
   "source": [
    "## Redução de Dimensionalidade"
   ]
  },
  {
   "cell_type": "code",
   "execution_count": null,
   "metadata": {},
   "outputs": [],
   "source": [
    "# Import do módulo\n",
    "from sklearn import decomposition\n",
    "\n",
    "# Datasets de treino e de teste\n",
    "treino = dataset_treino\n",
    "teste = dataset_teste\n",
    "\n",
    "# Criando o objeto PCA\n",
    "pca = decomposition.PCA(n_components=k)\n",
    "\n",
    "# Para Factor analysis\n",
    "fa = decomposition.FactorAnalysis()\n",
    "\n",
    "# Reduzindo a dimensão do dataset de treino usando PCA\n",
    "treino_reduzido = pca.fit_transform(treino)\n",
    "\n",
    "# Reduzindo a dimensão do dataset de teste\n",
    "teste_reduzido = pca.transform(teste)"
   ]
  },
  {
   "cell_type": "markdown",
   "metadata": {},
   "source": [
    "## Gradient Boosting & AdaBoost"
   ]
  },
  {
   "cell_type": "code",
   "execution_count": null,
   "metadata": {},
   "outputs": [],
   "source": [
    "# Import do módulo\n",
    "from sklearn.ensemble import GradientBoostingClassifier\n",
    "\n",
    "# Datasets de treino e de teste\n",
    "x_treino = dataset_treino_variaveis_preditoras\n",
    "y_treino = dataset_treino_variavel_prevista\n",
    "x_teste = dataset_teste_variaveis_preditoras\n",
    "\n",
    "# Criando o objeto Gradient Boosting\n",
    "modelo = GradientBoostingClassifier()\n",
    "\n",
    "# Treinando o modelo com dados de treino\n",
    "modelo.fit(x_treino, y_treino)\n",
    "\n",
    "# Previsões\n",
    "valores_previstos = modelo.predict(x_teste)"
   ]
  }
 ],
 "metadata": {
  "kernelspec": {
   "display_name": "Python 3",
   "language": "python",
   "name": "python3"
  },
  "language_info": {
   "codemirror_mode": {
    "name": "ipython",
    "version": 3
   },
   "file_extension": ".py",
   "mimetype": "text/x-python",
   "name": "python",
   "nbconvert_exporter": "python",
   "pygments_lexer": "ipython3",
   "version": "3.6.8"
  }
 },
 "nbformat": 4,
 "nbformat_minor": 2
}
